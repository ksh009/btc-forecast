{
 "cells": [
  {
   "cell_type": "code",
   "execution_count": null,
   "metadata": {},
   "outputs": [],
   "source": [
    "# This Python 3 environment comes with many helpful analytics libraries installed\n",
    "# It is defined by the kaggle/python Docker image: https://github.com/kaggle/docker-python\n",
    "# For example, here's several helpful packages to load\n",
    "\n",
    "import pandas as pd\n",
    "import numpy as np\n",
    "import matplotlib.pyplot as plt\n",
    "from sklearn.model_selection import train_test_split\n",
    "import statsmodels.api as sm\n",
    "import keras\n",
    "\n",
    "# Input data files are available in the read-only \"../input/\" directory\n",
    "# For example, running this (by clicking run or pressing Shift+Enter) will list all files under the input directory\n",
    "\n",
    "import os\n",
    "for dirname, _, filenames in os.walk('/kaggle/input'):\n",
    "    for filename in filenames:\n",
    "        print(os.path.join(dirname, filename))\n",
    "\n",
    "# You can write up to 20GB to the current directory (/kaggle/working/) that gets preserved as output when you create a version using \"Save & Run All\" \n",
    "# You can also write temporary files to /kaggle/temp/, but they won't be saved outside of the current session\n",
    "print(\"Working...test again\")"
   ]
  },
  {
   "cell_type": "code",
   "execution_count": null,
   "metadata": {},
   "outputs": [],
   "source": [
    "# Define and Read from Data Frame\n",
    "data_path = '/kaggle/input/bitcoin-usd-historical-data/btc-usd-max.csv'\n",
    "df = pd.read_csv(data_path)\n",
    "print(\"Head Read 1\",df.head())"
   ]
  },
  {
   "cell_type": "code",
   "execution_count": null,
   "metadata": {},
   "outputs": [],
   "source": [
    "# Preprocess data\n",
    "# Handling missing values\n",
    "df.fillna(method='ffill', inplace=True)\n",
    "\n",
    "# Convert 'Daily Date' to datetime\n",
    "df['snapped_at'] = pd.to_datetime(df['snapped_at'])\n",
    "\n",
    "# Set 'Daily Date' as index\n",
    "df.set_index('snapped_at', inplace=True)\n",
    "print(\"Head Read 2\",df.head())\n",
    "\n",
    "jade.chowthree@umuzi.org"
   ]
  },
  {
   "cell_type": "code",
   "execution_count": null,
   "metadata": {},
   "outputs": [],
   "source": [
    "# Explore price data on line chart \n",
    "plt.plot(df.index, df['price'])\n",
    "plt.xlabel('Date')\n",
    "plt.ylabel('Bitcoin Price')\n",
    "plt.title('Bitcoin Price Over Time')\n",
    "plt.show()"
   ]
  },
  {
   "cell_type": "code",
   "execution_count": null,
   "metadata": {},
   "outputs": [],
   "source": [
    "# Adding Min and Max dashed price line to BTC line chart \n",
    "plt.plot(df.index, df['price'])\n",
    "max_price = df['price'].max()\n",
    "min_price = df['price'].min()\n",
    "\n",
    "# Plot the line chart with dashed lines for highest and lowest prices\n",
    "plt.plot(df.index, [max_price] * len(df), '--', label='Highest Price')\n",
    "plt.plot(df.index, [min_price] * len(df), '--', label='Lowest Price')\n",
    "\n",
    "# Add a legend\n",
    "plt.legend()\n",
    "plt.xlabel('Date')\n",
    "plt.ylabel('Bitcoin Price')\n",
    "plt.title('Bitcoin Price Over Time')\n",
    "plt.show()"
   ]
  },
  {
   "attachments": {},
   "cell_type": "markdown",
   "metadata": {},
   "source": [
    "## Exploration 1 \n",
    "1. Create dashed lines for all the major swings \n",
    "2. Determine the trading volume percentage at all major swings \n",
    "3. Plot volume percentages on chart percentages on chart\n",
    "4. Add trading volume percentages to data input as new column"
   ]
  }
 ],
 "metadata": {
  "language_info": {
   "name": "python"
  },
  "orig_nbformat": 4
 },
 "nbformat": 4,
 "nbformat_minor": 2
}
